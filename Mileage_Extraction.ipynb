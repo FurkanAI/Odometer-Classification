{
  "cells": [
    {
      "cell_type": "markdown",
      "metadata": {
        "id": "ACRsSik95bj4"
      },
      "source": [
        "# Preparation"
      ]
    },
    {
      "cell_type": "code",
      "execution_count": 1,
      "metadata": {
        "id": "zJQ21mRjxY7D"
      },
      "outputs": [],
      "source": [
        "import sys\n",
        "assert sys.version_info >= (3, 5)\n",
        "\n",
        "import sklearn\n",
        "assert sklearn.__version__ >= \"0.20\"\n",
        "import numpy as np\n",
        "import cv2"
      ]
    },
    {
      "cell_type": "markdown",
      "metadata": {},
      "source": [
        "import google.colab for using drive file if it is necessary "
      ]
    },
    {
      "cell_type": "code",
      "execution_count": 2,
      "metadata": {
        "colab": {
          "base_uri": "https://localhost:8080/"
        },
        "id": "Bn1v2q5Cxu9B",
        "outputId": "1d7a19a8-91c3-415d-cd7b-733d366d4a0d"
      },
      "outputs": [
        {
          "name": "stdout",
          "output_type": "stream",
          "text": [
            "Mounted at /content/drive\n"
          ]
        }
      ],
      "source": [
        "from google.colab import drive\n",
        "\n",
        "\n",
        "drive.mount('/content/drive', force_remount=True)"
      ]
    },
    {
      "cell_type": "markdown",
      "metadata": {
        "id": "GXav4WjN_XkV"
      },
      "source": [
        "Determine some necessary path"
      ]
    },
    {
      "cell_type": "code",
      "execution_count": 3,
      "metadata": {
        "id": "GsV4UiOYXERa"
      },
      "outputs": [],
      "source": [
        "groundtruth_path = \"\"     # groundtruth location  \"  #### -->  /trodo-v01/ground truth/groundtruth.json\"\n",
        "annotations_path = \"\"     # annotations location  \"  #### -->  /trodo-v01/pascal voc 1.1/Annotations\"\n",
        "images_path = \"\"          # images location  \"  #### -->  /trodo-v01/images\""
      ]
    },
    {
      "cell_type": "markdown",
      "metadata": {
        "id": "YYoXiGnX_fVH"
      },
      "source": [
        "Normalization image data"
      ]
    },
    {
      "cell_type": "code",
      "execution_count": 4,
      "metadata": {
        "id": "holiEUxUW9hz"
      },
      "outputs": [],
      "source": [
        "import json\n",
        "import pandas as pd\n",
        "import os\n",
        "\n",
        "json_path = open(groundtruth_path)\n",
        "json_data = json.load(json_path)\n",
        "label_data = pd.json_normalize(json_data[\"odometers\"])\n",
        "label_data_droped_odometer_type = label_data.drop(\"odometer_type\", axis = 1)"
      ]
    },
    {
      "cell_type": "markdown",
      "metadata": {
        "id": "NuIgHb37_iJ6"
      },
      "source": [
        "Defining some list and dictionaries"
      ]
    },
    {
      "cell_type": "code",
      "execution_count": 200,
      "metadata": {
        "id": "InD6OEMOVxX6"
      },
      "outputs": [],
      "source": [
        "odometers_borders = []\n",
        "analog_odometers_numbers_borders = {}\n",
        "digital_odometers_numbers_borders = {}"
      ]
    },
    {
      "cell_type": "markdown",
      "metadata": {
        "id": "FInGGad-_tjL"
      },
      "source": [
        "Function check whether the variable is an integer or a string"
      ]
    },
    {
      "cell_type": "code",
      "execution_count": 201,
      "metadata": {
        "id": "fBEi8Vt1Co-X"
      },
      "outputs": [],
      "source": [
        "def int_or_str(x):\n",
        "\n",
        "  try:\n",
        "\n",
        "    x = int(x)\n",
        "\n",
        "  except ValueError:\n",
        "\n",
        "    pass\n",
        "\n",
        "  return x"
      ]
    },
    {
      "cell_type": "markdown",
      "metadata": {
        "id": "rWR-Qrz-_u7M"
      },
      "source": [
        " Function read xml file"
      ]
    },
    {
      "cell_type": "code",
      "execution_count": 202,
      "metadata": {
        "id": "c0oBlI7299GV"
      },
      "outputs": [],
      "source": [
        "import xml.etree.ElementTree as ET\n",
        "\n",
        "\n",
        "def read_xml_file(xml_file: str):\n",
        "\n",
        "    temp_list_1 = []\n",
        "    temp_list_2 = []\n",
        "    temp_list_3 = []\n",
        "\n",
        "    tree = ET.parse(xml_file)\n",
        "    root = tree.getroot()\n",
        "\n",
        "    file_name = root.find('filename').text\n",
        "\n",
        "    if label_data.loc[label_data[\"image\"] == file_name, \"odometer_type\"].iloc[0] == \"analog\":\n",
        "\n",
        "      for boxes in root.iter('object'):\n",
        "\n",
        "          ymin, xmin, ymax, xmax, object_name = None, None, None, None, None\n",
        "\n",
        "          ymin = float(boxes.find(\"bndbox/ymin\").text)\n",
        "          xmin = float(boxes.find(\"bndbox/xmin\").text)\n",
        "          ymax = float(boxes.find(\"bndbox/ymax\").text)\n",
        "          xmax = float(boxes.find(\"bndbox/xmax\").text)\n",
        "\n",
        "\n",
        "          if type(int_or_str(boxes.find(\"name\").text)) == int:\n",
        "\n",
        "            object_name = int_or_str(boxes.find(\"name\").text)\n",
        "\n",
        "            temp_list_1.append([(int(object_name)),(int(ymin), int(ymax), int(xmin), int(xmax))])\n",
        "\n",
        "\n",
        "          elif int_or_str(boxes.find(\"name\").text) == \"odometer\":\n",
        "\n",
        "            odometers_borders.append([(file_name),(int(ymin), int(ymax), int(xmin), int(xmax))])\n",
        "\n",
        "\n",
        "      for i in range(len(temp_list_1) - 1):\n",
        "        for j in range(((len(temp_list_1) - 1) - i)):\n",
        "\n",
        "          if temp_list_1[j][1][2] > temp_list_1[j+1][1][2]:\n",
        "\n",
        "            temp_list_2 = temp_list_1[j+1]\n",
        "            temp_list_1[j+1] = temp_list_1[j]\n",
        "            temp_list_1[j] = temp_list_2\n",
        "\n",
        "\n",
        "\n",
        "      for i in range(len(temp_list_1)):\n",
        "\n",
        "        temp_list_3.append([(temp_list_1[i][0]),(temp_list_1[i][1][0], temp_list_1[i][1][1], temp_list_1[i][1][2], temp_list_1[i][1][3])])\n",
        "\n",
        "\n",
        "      analog_odometers_numbers_borders.update({file_name: temp_list_3})\n",
        "\n",
        "\n",
        "    elif label_data.loc[label_data[\"image\"] == file_name, \"odometer_type\"].iloc[0] == \"digital\":\n",
        "\n",
        "      for boxes in root.iter('object'):\n",
        "\n",
        "        ymin, xmin, ymax, xmax, object_name = None, None, None, None, None\n",
        "\n",
        "        ymin = float(boxes.find(\"bndbox/ymin\").text)\n",
        "        xmin = float(boxes.find(\"bndbox/xmin\").text)\n",
        "        ymax = float(boxes.find(\"bndbox/ymax\").text)\n",
        "        xmax = float(boxes.find(\"bndbox/xmax\").text)\n",
        "\n",
        "        if type(int_or_str(boxes.find(\"name\").text)) == int:\n",
        "\n",
        "          object_name = int_or_str(boxes.find(\"name\").text)\n",
        "\n",
        "          temp_list_1.append([(int(object_name)),(int(ymin), int(ymax), int(xmin), int(xmax))])\n",
        "\n",
        "\n",
        "        elif int_or_str(boxes.find(\"name\").text) == \"odometer\":\n",
        "\n",
        "          odometers_borders.append([(file_name),(int(ymin), int(ymax), int(xmin), int(xmax))])\n",
        "\n",
        "\n",
        "\n",
        "      for i in range(len(temp_list_1) - 1):\n",
        "        for j in range(((len(temp_list_1) - 1) - i)):\n",
        "\n",
        "          if temp_list_1[j][1][2] > temp_list_1[j+1][1][2]:\n",
        "\n",
        "            temp_list_2 = temp_list_1[j+1]\n",
        "            temp_list_1[j+1] = temp_list_1[j]\n",
        "            temp_list_1[j] = temp_list_2\n",
        "\n",
        "\n",
        "\n",
        "      for i in range(len(temp_list_1)):\n",
        "\n",
        "        temp_list_3.append([(temp_list_1[i][0]),(temp_list_1[i][1][0], temp_list_1[i][1][1], temp_list_1[i][1][2], temp_list_1[i][1][3])])\n",
        "\n",
        "\n",
        "      digital_odometers_numbers_borders.update({file_name: temp_list_3})"
      ]
    },
    {
      "cell_type": "markdown",
      "metadata": {
        "id": "o51M9BY4_zc2"
      },
      "source": [
        "reading xml file"
      ]
    },
    {
      "cell_type": "code",
      "execution_count": 203,
      "metadata": {
        "id": "3pkYYtKjWdjx"
      },
      "outputs": [],
      "source": [
        "for xml_file_name in os.listdir(annotations_path):\n",
        "\n",
        "  if \".xml\" in xml_file_name:\n",
        "    xml_file_path = f\"{annotations_path}/{xml_file_name}\"\n",
        "    read_xml_file(xml_file_path)\n",
        "\n"
      ]
    },
    {
      "cell_type": "markdown",
      "metadata": {
        "id": "zwrI9x6kfdlh"
      },
      "source": [
        "# Analog Odometer Numbers Preparation"
      ]
    },
    {
      "cell_type": "code",
      "execution_count": 233,
      "metadata": {
        "id": "ypGq-ZTiLLoh"
      },
      "outputs": [],
      "source": [
        "labels = []\n",
        "features = []"
      ]
    },
    {
      "cell_type": "markdown",
      "metadata": {
        "id": "GUG_rzMT_-l1"
      },
      "source": [
        "Number is cropped from the images. Number images are resized and converted to grey."
      ]
    },
    {
      "cell_type": "code",
      "execution_count": 234,
      "metadata": {
        "id": "hkjIohBeACiG"
      },
      "outputs": [],
      "source": [
        "for key in analog_odometers_numbers_borders.keys():\n",
        "\n",
        "  features_temp = []\n",
        "  labels_temp = []\n",
        "\n",
        "  image_name = key\n",
        "  image_path = f\"{images_path}/{image_name}\"\n",
        "\n",
        "  for i in range(len(analog_odometers_numbers_borders.get(key))):\n",
        "\n",
        "    image = cv2.imread(image_path)\n",
        "    image = image[analog_odometers_numbers_borders.get(key)[i][1][0] : analog_odometers_numbers_borders.get(key)[i][1][1] ,\n",
        "                  analog_odometers_numbers_borders.get(key)[i][1][2] : analog_odometers_numbers_borders.get(key)[i][1][3]]\n",
        "    image = cv2.cvtColor(image, cv2.COLOR_BGR2GRAY)\n",
        "    image = cv2.resize(image, (30, 40), interpolation = cv2.INTER_AREA)\n",
        "\n",
        "    features_temp.append(image)\n",
        "    labels_temp.append(analog_odometers_numbers_borders.get(key)[i][0])\n",
        "\n",
        "  labels.append([(key),(labels_temp)])\n",
        "  features.append([(key),(features_temp)])"
      ]
    },
    {
      "cell_type": "code",
      "execution_count": 235,
      "metadata": {
        "colab": {
          "base_uri": "https://localhost:8080/"
        },
        "id": "84CmztHV-RIT",
        "outputId": "c10901b2-8257-4b5d-fb56-6052289c508b"
      },
      "outputs": [
        {
          "data": {
            "text/plain": [
              "858"
            ]
          },
          "execution_count": 235,
          "metadata": {},
          "output_type": "execute_result"
        }
      ],
      "source": [
        "len(features)"
      ]
    },
    {
      "cell_type": "markdown",
      "metadata": {
        "id": "LR7ng84UAHGx"
      },
      "source": [
        "Display of images after processing"
      ]
    },
    {
      "cell_type": "code",
      "execution_count": 236,
      "metadata": {
        "colab": {
          "base_uri": "https://localhost:8080/",
          "height": 441
        },
        "id": "8TRFppAX9GBD",
        "outputId": "eeed7055-9639-4406-e9fa-1282ddd0c24d"
      },
      "outputs": [
        {
          "name": "stdout",
          "output_type": "stream",
          "text": [
            "number = 0\n"
          ]
        },
        {
          "data": {
            "text/plain": [
              "(-0.5, 29.5, 39.5, -0.5)"
            ]
          },
          "execution_count": 236,
          "metadata": {},
          "output_type": "execute_result"
        },
        {
          "data": {
            "image/png": "[encoded data removed]",
            "text/plain": [
              "<Figure size 640x480 with 1 Axes>"
            ]
          },
          "metadata": {},
          "output_type": "display_data"
        }
      ],
      "source": [
        "import matplotlib as mpl\n",
        "import matplotlib.pyplot as plt\n",
        "\n",
        "\n",
        "print(f\"number = {labels[524][1][2]}\")\n",
        "plt.imshow(features[0][1][3], cmap=mpl.cm.binary)\n",
        "plt.axis(\"off\")"
      ]
    },
    {
      "cell_type": "code",
      "execution_count": 237,
      "metadata": {
        "colab": {
          "base_uri": "https://localhost:8080/",
          "height": 441
        },
        "id": "AJ0btY1M-Vpp",
        "outputId": "69d22e93-05e0-4fee-f9c1-2c8a56fc0012"
      },
      "outputs": [
        {
          "name": "stdout",
          "output_type": "stream",
          "text": [
            "number = 7\n"
          ]
        },
        {
          "data": {
            "text/plain": [
              "(-0.5, 29.5, 39.5, -0.5)"
            ]
          },
          "execution_count": 237,
          "metadata": {},
          "output_type": "execute_result"
        },
        {
          "data": {
            "image/png": "[encoded data removed]",
            "text/plain": [
              "<Figure size 640x480 with 1 Axes>"
            ]
          },
          "metadata": {},
          "output_type": "display_data"
        }
      ],
      "source": [
        "print(f\"number = {labels[125][1][2]}\")\n",
        "plt.imshow(features[125][1][2], cmap=mpl.cm.binary)\n",
        "plt.axis(\"off\")"
      ]
    },
    {
      "cell_type": "markdown",
      "metadata": {
        "id": "bf3d7YIfAShl"
      },
      "source": [
        "Lists are converted to numpy array"
      ]
    },
    {
      "cell_type": "code",
      "execution_count": 238,
      "metadata": {
        "id": "vTyq3-mc-FcK"
      },
      "outputs": [],
      "source": [
        "for i in range(len(features)):\n",
        "  for j in range(len(features[i][1])):\n",
        "\n",
        "    features[i][1][j] = np.asarray(features[i][1][j])\n"
      ]
    },
    {
      "cell_type": "markdown",
      "metadata": {
        "id": "jTBijskiArO6"
      },
      "source": [
        "features are reshaped from 2D to 1D"
      ]
    },
    {
      "cell_type": "code",
      "execution_count": 239,
      "metadata": {
        "id": "Iay48LeDLls1"
      },
      "outputs": [],
      "source": [
        "for i in range(len(features)):\n",
        "  for j in range(len(features[i][1])):\n",
        "\n",
        "    x , y = features[i][1][j].shape\n",
        "    features[i][1][j] = features[i][1][j].reshape(x*y)"
      ]
    },
    {
      "cell_type": "code",
      "execution_count": 240,
      "metadata": {
        "id": "xKw9MzHHRevv"
      },
      "outputs": [],
      "source": [
        "x_train , x_test , y_train , y_test = [] , [] , [] , []"
      ]
    },
    {
      "cell_type": "markdown",
      "metadata": {
        "id": "ciH1EIAPAoCZ"
      },
      "source": [
        "Splitting test and train set"
      ]
    },
    {
      "cell_type": "code",
      "execution_count": 241,
      "metadata": {
        "id": "9OhctdanOy_8"
      },
      "outputs": [],
      "source": [
        "for i in range(len(features[:int((858/100)*80)])):\n",
        "  for j in range(len(features[i][1])):\n",
        "\n",
        "    x_train.append(features[i][1][j])\n",
        "    y_train.append(labels[i][1][j])\n",
        "\n",
        "for i in range(len(features[int((858/100)*80):])):\n",
        "  for j in range(len(features[int((858/100)*80):][i][1])):\n",
        "\n",
        "    x_test.append(features[int((858/100)*80):][i][1][j])\n",
        "    y_test.append(labels[int((858/100)*80):][i][1][j])"
      ]
    },
    {
      "cell_type": "markdown",
      "metadata": {
        "id": "cPCl5Vj4A-V_"
      },
      "source": [
        "Lists are converted to numpy array"
      ]
    },
    {
      "cell_type": "code",
      "execution_count": 242,
      "metadata": {
        "id": "vESK8asZTCqp"
      },
      "outputs": [],
      "source": [
        "x_train = np.asarray(x_train)\n",
        "x_test = np.asarray(x_test)\n",
        "y_train = np.asarray(y_train)\n",
        "y_test = np.asarray(y_test)"
      ]
    },
    {
      "cell_type": "markdown",
      "metadata": {
        "id": "9SDRqw_GV68h"
      },
      "source": [
        "# SVC MODEL"
      ]
    },
    {
      "cell_type": "markdown",
      "metadata": {
        "id": "72jkvJ0_BFgN"
      },
      "source": [
        "Some hyperparameters are determined to used GridSearch"
      ]
    },
    {
      "cell_type": "code",
      "execution_count": 277,
      "metadata": {
        "id": "YxbUzNacV_Ll"
      },
      "outputs": [],
      "source": [
        "from sklearn.svm import SVC\n",
        "from sklearn.model_selection import GridSearchCV\n",
        "\n",
        "svc_gridsearch_parameters = {\"gamma\": [\"scale\"],\n",
        "                             \"C\": [4, 7, 10, 20, 40],\n",
        "                             \"probability\": [True],\n",
        "                             \"decision_function_shape\": [\"ovr\"],\n",
        "                             \"random_state\": [30, 25, 20, 15, 10]\n",
        "                            }"
      ]
    },
    {
      "cell_type": "markdown",
      "metadata": {
        "id": "gnG-Vr_NBK6E"
      },
      "source": [
        "Model is trained different parameters 25 time and for every trained model performs cross-validation 2 time."
      ]
    },
    {
      "cell_type": "code",
      "execution_count": 278,
      "metadata": {
        "colab": {
          "base_uri": "https://localhost:8080/",
          "height": 134
        },
        "id": "3ZtpvMIqbvfx",
        "outputId": "e79d208e-4796-4f43-b9ed-41eb9f3aba7e"
      },
      "outputs": [
        {
          "name": "stdout",
          "output_type": "stream",
          "text": [
            "Fitting 2 folds for each of 25 candidates, totalling 50 fits\n"
          ]
        },
        {
          "data": {
            "text/html": [
              "<style>#sk-container-id-17 {color: black;background-color: white;}#sk-container-id-17 pre{padding: 0;}#sk-container-id-17 div.sk-toggleable {background-color: white;}#sk-container-id-17 label.sk-toggleable__label {cursor: pointer;display: block;width: 100%;margin-bottom: 0;padding: 0.3em;box-sizing: border-box;text-align: center;}#sk-container-id-17 label.sk-toggleable__label-arrow:before {content: \"▸\";float: left;margin-right: 0.25em;color: #696969;}#sk-container-id-17 label.sk-toggleable__label-arrow:hover:before {color: black;}#sk-container-id-17 div.sk-estimator:hover label.sk-toggleable__label-arrow:before {color: black;}#sk-container-id-17 div.sk-toggleable__content {max-height: 0;max-width: 0;overflow: hidden;text-align: left;background-color: #f0f8ff;}#sk-container-id-17 div.sk-toggleable__content pre {margin: 0.2em;color: black;border-radius: 0.25em;background-color: #f0f8ff;}#sk-container-id-17 input.sk-toggleable__control:checked~div.sk-toggleable__content {max-height: 200px;max-width: 100%;overflow: auto;}#sk-container-id-17 input.sk-toggleable__control:checked~label.sk-toggleable__label-arrow:before {content: \"▾\";}#sk-container-id-17 div.sk-estimator input.sk-toggleable__control:checked~label.sk-toggleable__label {background-color: #d4ebff;}#sk-container-id-17 div.sk-label input.sk-toggleable__control:checked~label.sk-toggleable__label {background-color: #d4ebff;}#sk-container-id-17 input.sk-hidden--visually {border: 0;clip: rect(1px 1px 1px 1px);clip: rect(1px, 1px, 1px, 1px);height: 1px;margin: -1px;overflow: hidden;padding: 0;position: absolute;width: 1px;}#sk-container-id-17 div.sk-estimator {font-family: monospace;background-color: #f0f8ff;border: 1px dotted black;border-radius: 0.25em;box-sizing: border-box;margin-bottom: 0.5em;}#sk-container-id-17 div.sk-estimator:hover {background-color: #d4ebff;}#sk-container-id-17 div.sk-parallel-item::after {content: \"\";width: 100%;border-bottom: 1px solid gray;flex-grow: 1;}#sk-container-id-17 div.sk-label:hover label.sk-toggleable__label {background-color: #d4ebff;}#sk-container-id-17 div.sk-serial::before {content: \"\";position: absolute;border-left: 1px solid gray;box-sizing: border-box;top: 0;bottom: 0;left: 50%;z-index: 0;}#sk-container-id-17 div.sk-serial {display: flex;flex-direction: column;align-items: center;background-color: white;padding-right: 0.2em;padding-left: 0.2em;position: relative;}#sk-container-id-17 div.sk-item {position: relative;z-index: 1;}#sk-container-id-17 div.sk-parallel {display: flex;align-items: stretch;justify-content: center;background-color: white;position: relative;}#sk-container-id-17 div.sk-item::before, #sk-container-id-17 div.sk-parallel-item::before {content: \"\";position: absolute;border-left: 1px solid gray;box-sizing: border-box;top: 0;bottom: 0;left: 50%;z-index: -1;}#sk-container-id-17 div.sk-parallel-item {display: flex;flex-direction: column;z-index: 1;position: relative;background-color: white;}#sk-container-id-17 div.sk-parallel-item:first-child::after {align-self: flex-end;width: 50%;}#sk-container-id-17 div.sk-parallel-item:last-child::after {align-self: flex-start;width: 50%;}#sk-container-id-17 div.sk-parallel-item:only-child::after {width: 0;}#sk-container-id-17 div.sk-dashed-wrapped {border: 1px dashed gray;margin: 0 0.4em 0.5em 0.4em;box-sizing: border-box;padding-bottom: 0.4em;background-color: white;}#sk-container-id-17 div.sk-label label {font-family: monospace;font-weight: bold;display: inline-block;line-height: 1.2em;}#sk-container-id-17 div.sk-label-container {text-align: center;}#sk-container-id-17 div.sk-container {/* jupyter's `normalize.less` sets `[hidden] { display: none; }` but bootstrap.min.css set `[hidden] { display: none !important; }` so we also need the `!important` here to be able to override the default hidden behavior on the sphinx rendered scikit-learn.org. See: https://github.com/scikit-learn/scikit-learn/issues/21755 */display: inline-block !important;position: relative;}#sk-container-id-17 div.sk-text-repr-fallback {display: none;}</style><div id=\"sk-container-id-17\" class=\"sk-top-container\"><div class=\"sk-text-repr-fallback\"><pre>GridSearchCV(cv=2, estimator=SVC(),\n",
              "             param_grid={&#x27;C&#x27;: [4, 7, 10, 20, 40],\n",
              "                         &#x27;decision_function_shape&#x27;: [&#x27;ovr&#x27;], &#x27;gamma&#x27;: [&#x27;scale&#x27;],\n",
              "                         &#x27;probability&#x27;: [True],\n",
              "                         &#x27;random_state&#x27;: [30, 25, 20, 15, 10]},\n",
              "             scoring=&#x27;roc_auc_ovr&#x27;, verbose=1)</pre><b>In a Jupyter environment, please rerun this cell to show the HTML representation or trust the notebook. <br />On GitHub, the HTML representation is unable to render, please try loading this page with nbviewer.org.</b></div><div class=\"sk-container\" hidden><div class=\"sk-item sk-dashed-wrapped\"><div class=\"sk-label-container\"><div class=\"sk-label sk-toggleable\"><input class=\"sk-toggleable__control sk-hidden--visually\" id=\"sk-estimator-id-39\" type=\"checkbox\" ><label for=\"sk-estimator-id-39\" class=\"sk-toggleable__label sk-toggleable__label-arrow\">GridSearchCV</label><div class=\"sk-toggleable__content\"><pre>GridSearchCV(cv=2, estimator=SVC(),\n",
              "             param_grid={&#x27;C&#x27;: [4, 7, 10, 20, 40],\n",
              "                         &#x27;decision_function_shape&#x27;: [&#x27;ovr&#x27;], &#x27;gamma&#x27;: [&#x27;scale&#x27;],\n",
              "                         &#x27;probability&#x27;: [True],\n",
              "                         &#x27;random_state&#x27;: [30, 25, 20, 15, 10]},\n",
              "             scoring=&#x27;roc_auc_ovr&#x27;, verbose=1)</pre></div></div></div><div class=\"sk-parallel\"><div class=\"sk-parallel-item\"><div class=\"sk-item\"><div class=\"sk-label-container\"><div class=\"sk-label sk-toggleable\"><input class=\"sk-toggleable__control sk-hidden--visually\" id=\"sk-estimator-id-40\" type=\"checkbox\" ><label for=\"sk-estimator-id-40\" class=\"sk-toggleable__label sk-toggleable__label-arrow\">estimator: SVC</label><div class=\"sk-toggleable__content\"><pre>SVC()</pre></div></div></div><div class=\"sk-serial\"><div class=\"sk-item\"><div class=\"sk-estimator sk-toggleable\"><input class=\"sk-toggleable__control sk-hidden--visually\" id=\"sk-estimator-id-41\" type=\"checkbox\" ><label for=\"sk-estimator-id-41\" class=\"sk-toggleable__label sk-toggleable__label-arrow\">SVC</label><div class=\"sk-toggleable__content\"><pre>SVC()</pre></div></div></div></div></div></div></div></div></div></div>"
            ],
            "text/plain": [
              "GridSearchCV(cv=2, estimator=SVC(),\n",
              "             param_grid={'C': [4, 7, 10, 20, 40],\n",
              "                         'decision_function_shape': ['ovr'], 'gamma': ['scale'],\n",
              "                         'probability': [True],\n",
              "                         'random_state': [30, 25, 20, 15, 10]},\n",
              "             scoring='roc_auc_ovr', verbose=1)"
            ]
          },
          "execution_count": 278,
          "metadata": {},
          "output_type": "execute_result"
        }
      ],
      "source": [
        "SVC_gridsearch = GridSearchCV(SVC(), svc_gridsearch_parameters, verbose = 1, scoring = \"roc_auc_ovr\", cv = 2)\n",
        "\n",
        "SVC_gridsearch.fit(x_train, y_train)"
      ]
    },
    {
      "cell_type": "markdown",
      "metadata": {
        "id": "QLpxKIxNBSz-"
      },
      "source": [
        "Best parameters"
      ]
    },
    {
      "cell_type": "code",
      "execution_count": 279,
      "metadata": {
        "colab": {
          "base_uri": "https://localhost:8080/"
        },
        "id": "6SVP_kc0cGWX",
        "outputId": "de4098e1-476c-418e-a64f-40e0d9219c4b"
      },
      "outputs": [
        {
          "data": {
            "text/plain": [
              "{'C': 7,\n",
              " 'decision_function_shape': 'ovr',\n",
              " 'gamma': 'scale',\n",
              " 'probability': True,\n",
              " 'random_state': 30}"
            ]
          },
          "execution_count": 279,
          "metadata": {},
          "output_type": "execute_result"
        }
      ],
      "source": [
        "SVC_gridsearch.best_params_"
      ]
    },
    {
      "cell_type": "code",
      "execution_count": 280,
      "metadata": {
        "id": "p0n_7xrGdr-e"
      },
      "outputs": [],
      "source": [
        "SVC_MODEL = SVC_gridsearch.best_estimator_"
      ]
    },
    {
      "cell_type": "code",
      "execution_count": 281,
      "metadata": {
        "colab": {
          "base_uri": "https://localhost:8080/"
        },
        "id": "UbUm-eIHUikD",
        "outputId": "aadc4779-e975-4436-a467-0b9372e2c683"
      },
      "outputs": [
        {
          "data": {
            "text/plain": [
              "array([0, 1, 2, 3, 4, 5, 6, 7, 8, 9])"
            ]
          },
          "execution_count": 281,
          "metadata": {},
          "output_type": "execute_result"
        }
      ],
      "source": [
        "SVC_MODEL.classes_"
      ]
    },
    {
      "cell_type": "markdown",
      "metadata": {
        "id": "LQOtV-0ju9Rl"
      },
      "source": [
        "# Performance on the train set"
      ]
    },
    {
      "cell_type": "code",
      "execution_count": 303,
      "metadata": {
        "id": "Tshu27B5pcgA"
      },
      "outputs": [],
      "source": [
        "from sklearn.preprocessing import StandardScaler\n",
        "\n",
        "scaler = StandardScaler()\n",
        "x_train_scaled = scaler.fit_transform(x_train.astype(np.float64))"
      ]
    },
    {
      "cell_type": "markdown",
      "metadata": {
        "id": "Jzw-P3vYBpxK"
      },
      "source": [
        "Prediction of model using cross-validation-prediction on the train set"
      ]
    },
    {
      "cell_type": "code",
      "execution_count": 304,
      "metadata": {
        "id": "bwjxm3jDp7cV"
      },
      "outputs": [],
      "source": [
        "from sklearn.model_selection import cross_val_predict\n",
        "\n",
        "y_train_pred = cross_val_predict(SVC_MODEL, x_train_scaled, y_train, cv=2)"
      ]
    },
    {
      "cell_type": "markdown",
      "metadata": {
        "id": "5xwjxoZ6B7er"
      },
      "source": [
        "Confusion matrix"
      ]
    },
    {
      "cell_type": "code",
      "execution_count": 305,
      "metadata": {
        "colab": {
          "base_uri": "https://localhost:8080/"
        },
        "id": "M1fnQ-JkqaZ0",
        "outputId": "6fc4b6bb-2459-4132-c2d0-0bae86f97271"
      },
      "outputs": [
        {
          "data": {
            "text/plain": [
              "array([[1449,    8,   12,    8,    4,    3,    6,    6,    3,    4],\n",
              "       [  19,  479,   15,    5,   13,    1,    0,   22,    0,    1],\n",
              "       [  32,    9,  334,   25,    5,    6,    6,   12,    6,    6],\n",
              "       [  27,    9,   22,  277,    8,    8,    6,   14,   10,    9],\n",
              "       [  14,   24,   15,    2,  297,    4,    3,    5,    6,    7],\n",
              "       [  26,    3,    7,   14,    9,  220,   22,    5,   10,    2],\n",
              "       [  35,    4,    4,    7,    6,   18,  206,    9,   17,    1],\n",
              "       [  34,   27,   15,   11,    8,    3,    3,  273,    0,    1],\n",
              "       [  25,   10,   13,   14,    2,    6,   38,    3,  160,   24],\n",
              "       [  33,    4,   13,   10,    6,    3,    7,    3,   22,  157]])"
            ]
          },
          "execution_count": 305,
          "metadata": {},
          "output_type": "execute_result"
        }
      ],
      "source": [
        "from sklearn.metrics import confusion_matrix\n",
        "\n",
        "conf_matrix = confusion_matrix(y_train, y_train_pred)\n",
        "conf_matrix"
      ]
    },
    {
      "cell_type": "code",
      "execution_count": 306,
      "metadata": {
        "id": "JeX0OHzvx6uL"
      },
      "outputs": [],
      "source": [
        "conf_matrix_new = conf_matrix"
      ]
    },
    {
      "cell_type": "markdown",
      "metadata": {
        "id": "Nx5a8v5CCA-2"
      },
      "source": [
        "Scaling confusion matrix to show clear"
      ]
    },
    {
      "cell_type": "code",
      "execution_count": 310,
      "metadata": {
        "id": "yvYv6pFOwVNI"
      },
      "outputs": [],
      "source": [
        "for i in range(len(conf_matrix_new)):\n",
        "\n",
        "  temp = 0\n",
        "\n",
        "  for j in range(len(conf_matrix_new)):\n",
        "\n",
        "    temp = temp + conf_matrix_new[j][i]\n",
        "\n",
        "  for j in range(len(conf_matrix_new)):\n",
        "\n",
        "    conf_matrix_new[j][i] = int((conf_matrix_new[j][i] / temp)*1600)"
      ]
    },
    {
      "cell_type": "markdown",
      "metadata": {
        "id": "hM883MPRCSUX"
      },
      "source": [
        "Scaled confusion matrix"
      ]
    },
    {
      "cell_type": "code",
      "execution_count": 311,
      "metadata": {
        "colab": {
          "base_uri": "https://localhost:8080/"
        },
        "id": "Qiw2_OJ8y2ac",
        "outputId": "ccea9099-a903-46df-9caa-0c282431fb11"
      },
      "outputs": [
        {
          "data": {
            "text/plain": [
              "array([[1371,   22,   42,   34,   17,   17,   32,   27,   20,   30],\n",
              "       [  17, 1332,   53,   21,   58,    5,    0,  100,    0,    7],\n",
              "       [  30,   24, 1189,  107,   22,   35,   32,   54,   41,   45],\n",
              "       [  25,   24,   78, 1190,   35,   47,   32,   63,   68,   67],\n",
              "       [  13,   66,   53,    8, 1331,   23,   16,   22,   41,   52],\n",
              "       [  24,    8,   24,   60,   40, 1298,  118,   22,   68,   15],\n",
              "       [  33,   11,   14,   30,   26,  105, 1111,   40,  116,    7],\n",
              "       [  32,   74,   53,   47,   35,   17,   16, 1244,    0,    7],\n",
              "       [  23,   27,   46,   60,    8,   35,  204,   13, 1095,  181],\n",
              "       [  31,   11,   46,   42,   26,   17,   37,   13,  150, 1187]])"
            ]
          },
          "execution_count": 311,
          "metadata": {},
          "output_type": "execute_result"
        }
      ],
      "source": [
        "conf_matrix_new"
      ]
    },
    {
      "cell_type": "code",
      "execution_count": 312,
      "metadata": {
        "colab": {
          "base_uri": "https://localhost:8080/",
          "height": 437
        },
        "id": "WaUN8Co8vdgh",
        "outputId": "64e6b0d7-1e21-44f1-e516-9635fc636c20"
      },
      "outputs": [
        {
          "data": {
            "image/png": "[encoded data removed]",
            "text/plain": [
              "<Figure size 480x480 with 1 Axes>"
            ]
          },
          "metadata": {},
          "output_type": "display_data"
        }
      ],
      "source": [
        "plt.matshow(conf_matrix_new, cmap=plt.cm.gray)\n",
        "plt.show()"
      ]
    },
    {
      "cell_type": "markdown",
      "metadata": {
        "id": "DOx50dUi39AP"
      },
      "source": [
        "# Performance on the test set"
      ]
    },
    {
      "cell_type": "code",
      "execution_count": 314,
      "metadata": {
        "id": "tQi2yCNh4k7i"
      },
      "outputs": [],
      "source": [
        "scaler = StandardScaler()\n",
        "x_test_scaled = scaler.fit_transform(x_test.astype(np.float64))"
      ]
    },
    {
      "cell_type": "markdown",
      "metadata": {
        "id": "FedvQ68NCjDh"
      },
      "source": [
        "Prediction of model using cross-validation-prediction on the test set  "
      ]
    },
    {
      "cell_type": "code",
      "execution_count": 315,
      "metadata": {
        "id": "7pHvXdD94nN1"
      },
      "outputs": [],
      "source": [
        "y_test_pred = cross_val_predict(SVC_MODEL, x_test_scaled, y_test, cv=2)"
      ]
    },
    {
      "cell_type": "markdown",
      "metadata": {
        "id": "A9uNmWMbCwdo"
      },
      "source": [
        "confusion matrix"
      ]
    },
    {
      "cell_type": "code",
      "execution_count": 316,
      "metadata": {
        "colab": {
          "base_uri": "https://localhost:8080/"
        },
        "id": "Y_zJaGTI4pZI",
        "outputId": "73c7455c-49f6-4f93-a312-4167a6610d34"
      },
      "outputs": [
        {
          "data": {
            "text/plain": [
              "array([[338,   1,   2,   7,   8,   0,   1,   1,   0,   2],\n",
              "       [ 10,  80,   8,   2,  10,   4,   3,   0,   0,   0],\n",
              "       [ 15,   2,  69,  19,   4,   1,   0,   3,   0,   0],\n",
              "       [ 23,   1,   6,  52,   2,   3,   3,   1,   2,   3],\n",
              "       [ 16,   3,   2,   5,  80,   2,   1,   1,   0,   0],\n",
              "       [  3,   1,   2,   0,   2,  58,   7,   2,   1,   0],\n",
              "       [ 10,   2,   0,   5,   2,   6,  51,   0,   3,   2],\n",
              "       [  8,   3,   3,   9,   4,   1,   0,  46,   0,   0],\n",
              "       [ 13,   0,   0,   7,   1,   2,  13,   0,  52,   1],\n",
              "       [ 10,   1,   1,  11,   3,   2,   1,   0,   4,  40]])"
            ]
          },
          "execution_count": 316,
          "metadata": {},
          "output_type": "execute_result"
        }
      ],
      "source": [
        "\n",
        "conf_matrix = confusion_matrix(y_test, y_test_pred)\n",
        "conf_matrix"
      ]
    },
    {
      "cell_type": "code",
      "execution_count": 317,
      "metadata": {
        "id": "OlDx_jZP4tHf"
      },
      "outputs": [],
      "source": [
        "conf_matrix_new = conf_matrix"
      ]
    },
    {
      "cell_type": "markdown",
      "metadata": {
        "id": "pMZseHiPCZnx"
      },
      "source": [
        "Scaling confusion matrix to show clear"
      ]
    },
    {
      "cell_type": "code",
      "execution_count": 318,
      "metadata": {
        "id": "IV9oaAYD4tyF"
      },
      "outputs": [],
      "source": [
        "for i in range(len(conf_matrix_new)):\n",
        "\n",
        "  temp = 0\n",
        "\n",
        "  for j in range(len(conf_matrix_new)):\n",
        "\n",
        "    temp = temp + conf_matrix_new[j][i]\n",
        "\n",
        "  for j in range(len(conf_matrix_new)):\n",
        "\n",
        "    conf_matrix_new[j][i] = int((conf_matrix_new[j][i] / temp)*500)"
      ]
    },
    {
      "cell_type": "code",
      "execution_count": 319,
      "metadata": {
        "colab": {
          "base_uri": "https://localhost:8080/"
        },
        "id": "BbvuVsFj4w_M",
        "outputId": "2b88b874-163a-43b2-be65-e5aa18514426"
      },
      "outputs": [
        {
          "data": {
            "text/plain": [
              "array([[378,   5,  10,  29,  34,   0,   6,   9,   0,  20],\n",
              "       [ 11, 425,  43,   8,  43,  25,  18,   0,   0,   0],\n",
              "       [ 16,  10, 370,  81,  17,   6,   0,  27,   0,   0],\n",
              "       [ 25,   5,  32, 222,   8,  18,  18,   9,  16,  31],\n",
              "       [ 17,  15,  10,  21, 344,  12,   6,   9,   0,   0],\n",
              "       [  3,   5,  10,   0,   8, 367,  43,  18,   8,   0],\n",
              "       [ 11,  10,   0,  21,   8,  37, 318,   0,  24,  20],\n",
              "       [  8,  15,  16,  38,  17,   6,   0, 425,   0,   0],\n",
              "       [ 14,   0,   0,  29,   4,  12,  81,   0, 419,  10],\n",
              "       [ 11,   5,   5,  47,  12,  12,   6,   0,  32, 416]])"
            ]
          },
          "execution_count": 319,
          "metadata": {},
          "output_type": "execute_result"
        }
      ],
      "source": [
        "conf_matrix_new"
      ]
    },
    {
      "cell_type": "code",
      "execution_count": 320,
      "metadata": {
        "colab": {
          "base_uri": "https://localhost:8080/",
          "height": 437
        },
        "id": "a0M2126D4zmR",
        "outputId": "32ecaf97-88ed-41d4-a3c0-d3077925db3a"
      },
      "outputs": [
        {
          "data": {
            "image/png": "[encoded data removed]",
            "text/plain": [
              "<Figure size 480x480 with 1 Axes>"
            ]
          },
          "metadata": {},
          "output_type": "display_data"
        }
      ],
      "source": [
        "plt.matshow(conf_matrix_new, cmap=plt.cm.gray)\n",
        "plt.show()"
      ]
    },
    {
      "cell_type": "markdown",
      "metadata": {
        "id": "5dEei-BL0Zmt"
      },
      "source": [
        "# Performance on the odometer"
      ]
    },
    {
      "cell_type": "code",
      "execution_count": 346,
      "metadata": {
        "id": "K74B8ksl3PHW"
      },
      "outputs": [],
      "source": [
        "odometer_predict = []\n",
        "y_true = []"
      ]
    },
    {
      "cell_type": "markdown",
      "metadata": {
        "id": "qPABq27wDD8I"
      },
      "source": [
        "Prediction of Model for every odometer"
      ]
    },
    {
      "cell_type": "code",
      "execution_count": 347,
      "metadata": {
        "id": "YVwy0amS05Ar"
      },
      "outputs": [],
      "source": [
        "for i in range(len(features)):\n",
        "\n",
        "\n",
        "  temp = 0\n",
        "  temp_array = []\n",
        "  temp_array = SVC_MODEL.predict(features[i][1])\n",
        "\n",
        "  for j in range(len(temp_array)):\n",
        "\n",
        "    temp = temp + (temp_array[j] * (pow(10,len(temp_array) - j)))\n",
        "\n",
        "  odometer_predict.append(temp)\n",
        "  y_true.append(int(label_data.loc[label_data[\"image\"] == features[i][0], \"mileage\"].iloc[0]))"
      ]
    },
    {
      "cell_type": "markdown",
      "metadata": {
        "id": "-CO7DA3pDVWK"
      },
      "source": [
        "Accuracy"
      ]
    },
    {
      "cell_type": "code",
      "execution_count": 348,
      "metadata": {
        "colab": {
          "base_uri": "https://localhost:8080/"
        },
        "id": "-mczca_q9ME_",
        "outputId": "f7fce65a-e8e0-4cd9-98b0-2b10f2af1ab9"
      },
      "outputs": [
        {
          "data": {
            "text/plain": [
              "0.0011655011655011655"
            ]
          },
          "execution_count": 348,
          "metadata": {},
          "output_type": "execute_result"
        }
      ],
      "source": [
        "from sklearn.metrics import accuracy_score\n",
        "\n",
        "accuracy_score(y_true, odometer_predict)"
      ]
    }
  ],
  "metadata": {
    "colab": {
      "provenance": []
    },
    "kernelspec": {
      "display_name": "Python 3",
      "name": "python3"
    },
    "language_info": {
      "name": "python"
    }
  },
  "nbformat": 4,
  "nbformat_minor": 0
}
